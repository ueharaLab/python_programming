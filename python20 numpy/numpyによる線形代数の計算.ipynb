{
 "cells": [
  {
   "cell_type": "markdown",
   "id": "bf5a2bd3-9d95-487a-849a-f023e748a6e3",
   "metadata": {},
   "source": [
    "# numpy応用演習\n",
    "\n",
    "以下のような3次元配列に変換せよ"
   ]
  },
  {
   "cell_type": "code",
   "execution_count": 3,
   "id": "babac40e-9d2c-43e9-b91b-fbb1f56b6524",
   "metadata": {},
   "outputs": [
    {
     "name": "stdout",
     "output_type": "stream",
     "text": [
      "[[[ 0  1]\n",
      "  [ 2  3]\n",
      "  [ 4  5]]\n",
      "\n",
      " [[ 6  7]\n",
      "  [ 8  9]\n",
      "  [10 11]]]\n"
     ]
    }
   ],
   "source": [
    "import numpy as np\n",
    "e = np.array([0,1,2,3,4,5,6,7,8,9,10,11])\n",
    "f = e.reshape(2,3,2)\n",
    "print(f)\n"
   ]
  },
  {
   "cell_type": "markdown",
   "id": "2e928a3c-b81f-43f0-8cec-aa1eda10cb80",
   "metadata": {},
   "source": [
    "1. 上記3次元配列から2つ目の行列中の9を取り出せ\n",
    "2. 同様に1つ目の行列中の2 3を取り出せ\n",
    "   "
   ]
  },
  {
   "cell_type": "code",
   "execution_count": null,
   "id": "7f5c669f-d71a-49e9-947c-60fb76de6bd8",
   "metadata": {},
   "outputs": [],
   "source": [
    "print(f[1,1,1])\n",
    "print(f[0,1])"
   ]
  },
  {
   "cell_type": "markdown",
   "id": "89fe7449-52d6-4b0c-a4cd-15a1ea4c9760",
   "metadata": {},
   "source": [
    "# 連結\n",
    "1. 1次元配列 gを、2次元配列（行列）eの最下行に追加せよ\n",
    "2. 1次元配列 hを、eの左に１列追加せよ  \n",
    "ヒント：np.concatenateを使う"
   ]
  },
  {
   "cell_type": "code",
   "execution_count": null,
   "id": "b82ea9e3-626b-46de-94a7-d0d3210db250",
   "metadata": {},
   "outputs": [],
   "source": [
    "import numpy as np\n",
    "e=np.arange(12).reshape(3,4)\n",
    "g=np.array([1,2,3,4])\n",
    "h=np.array([1,2,3])\n",
    "i = np.concatenate([e,g.reshape(1,-1)],axis=0)\n",
    "j = np.concatenate([e,h.reshape(-1,1)],axis=1)\n",
    "print(i)\n",
    "print(j)"
   ]
  },
  {
   "cell_type": "markdown",
   "id": "019c7d09-446b-4986-ae98-ce70dc2b7614",
   "metadata": {},
   "source": [
    "# インデックスの取得\n",
    "1. 上記の2次元配列 e について行毎に最大値を取り出せ\n",
    "2. 同様にして行毎に最大値のインデックス（列番号）を取り出せ\n",
    "3. e について列毎に最大値を取り出せ\n",
    "4. 同様にして列毎に最大値のインデックス（行番号）を取り出せ\n",
    "5. e について3の倍数だけを取り出せ\n",
    "6. e について3の倍数のインデックスを取り出せ\n"
   ]
  },
  {
   "cell_type": "code",
   "execution_count": null,
   "id": "1bf97f3a-3e93-4144-8191-0ce4328af862",
   "metadata": {},
   "outputs": [],
   "source": [
    "print(np.max(e,1))\n",
    "print(np.argmax(e,1))\n",
    "print(np.max(e,0))\n",
    "print(np.argmax(e,0))\n",
    "print(e[e%3==0])\n",
    "print(np.where(e%3==0))"
   ]
  },
  {
   "cell_type": "markdown",
   "id": "40ee7d6e-0b63-42a4-ab51-4c51fb50d416",
   "metadata": {},
   "source": [
    "# 行列の積\n",
    "1. ベクトル g と行列 eの積を計算せよ（1行3列となる）\n",
    "2. 行列 e とベクトル h.Tの積を計算せよ(転置は.T)\n",
    "3. g・e・h.T を計算せよ"
   ]
  },
  {
   "cell_type": "code",
   "execution_count": 2,
   "id": "82949e74-8dbc-4e45-a772-8cd5ce7c9cf0",
   "metadata": {},
   "outputs": [
    {
     "name": "stdout",
     "output_type": "stream",
     "text": [
      "[[ 0  1  2]\n",
      " [ 3  4  5]\n",
      " [ 6  7  8]\n",
      " [ 9 10 11]]\n",
      "[60 70 80]\n",
      "[[ 8]\n",
      " [26]\n",
      " [44]\n",
      " [62]]\n",
      "[440]\n"
     ]
    }
   ],
   "source": [
    "import numpy as np\n",
    "e=np.arange(12).reshape(4,3)\n",
    "print(e)\n",
    "g=np.array([1,2,3,4])\n",
    "h=np.array([1,2,3])\n",
    "\n",
    "print(np.dot(g,e))\n",
    "print(np.dot(e,h.reshape(-1,1)))\n",
    "print(np.dot(np.dot(g,e),h.reshape(-1,1)))"
   ]
  },
  {
   "cell_type": "markdown",
   "id": "f1cd2864-fe01-4439-b078-cc0499aae217",
   "metadata": {},
   "source": [
    "以下のxとW.Tの積を数式で表すことを考える。数式でベクトルを表現する場合は常に縦ベクトルである。 したがって、xは数式で表すと$x^T$である。  \n",
    "また、行列$A$,$B$の転置は、転置の公式より、$(AB)^T=B^TA^T$のように変換できる。つまり、以下のxとW.Tの積は、公式の右辺に相当する。  \n",
    "そこで、公式の左辺の形式でxとW.Tの積を計算して、結果が同一になることを確認せよ。  \n",
    "この計算は、ニューラルネットワークの何に該当するか？　ノードとエッジを用いて、このコーディングを絵に書いてみよ"
   ]
  },
  {
   "cell_type": "code",
   "execution_count": null,
   "id": "6f376d40-0b8e-4ad0-8812-3a5258ac4ab0",
   "metadata": {},
   "outputs": [],
   "source": [
    "import numpy as np\n",
    "x=np.array([1,2,3])\n",
    "W = np.arange(12).reshape(4,3)\n",
    "print(np.dot(x,W.T))"
   ]
  },
  {
   "cell_type": "code",
   "execution_count": null,
   "id": "fb93a1a9-91ab-44df-880b-14ff256ac32b",
   "metadata": {},
   "outputs": [],
   "source": [
    "print(np.dot(W,x.T).T)"
   ]
  }
 ],
 "metadata": {
  "kernelspec": {
   "display_name": "Python 3 (ipykernel)",
   "language": "python",
   "name": "python3"
  },
  "language_info": {
   "codemirror_mode": {
    "name": "ipython",
    "version": 3
   },
   "file_extension": ".py",
   "mimetype": "text/x-python",
   "name": "python",
   "nbconvert_exporter": "python",
   "pygments_lexer": "ipython3",
   "version": "3.11.7"
  }
 },
 "nbformat": 4,
 "nbformat_minor": 5
}
