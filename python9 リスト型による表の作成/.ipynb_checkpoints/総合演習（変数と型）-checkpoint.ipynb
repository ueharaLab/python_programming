{
 "cells": [
  {
   "cell_type": "markdown",
   "id": "7278d78f-699a-43db-a4cc-7b70755d4421",
   "metadata": {},
   "source": [
    "# 変数\n",
    "**1. 以下のような３つの変数だけを使い、式中に数値を明示することなく下記の演算をするプログラミングは可能か？**\n",
    "\n",
    "**変数の初期値**\n",
    "\n",
    "\n",
    "```python\n",
    "a=0\n",
    "b=1\n",
    "c=2\n",
    "```\n",
    "\n",
    "\n",
    "---\n",
    "\n",
    "**演算**\n",
    "\n",
    "$3=1+2$  \n",
    "$5=3+2$  \n",
    "$6=5+1$  \n",
    "\n",
    "---\n",
    "\n",
    "\n"
   ]
  },
  {
   "cell_type": "markdown",
   "id": "9834653a-eb80-4b00-b0ea-2bddb458e7fa",
   "metadata": {},
   "source": [
    "# 配列の演算\n",
    "**2. 以下は配列要素同士の演算することを意図したプログラムであるが、このままではエラーになる。これを正しく動作するように修正せよ**\n",
    "\n",
    "---\n",
    "\n",
    "cには、[5,7,9]が入るようにしたい\n",
    "```python\n",
    "a=[1,2,3]\n",
    "b=[4,5,6]\n",
    "c = a + b\n",
    "```\n",
    "\n",
    "---"
   ]
  },
  {
   "cell_type": "code",
   "execution_count": 26,
   "id": "ad4b72ba-c23d-43d2-9433-2df55998d605",
   "metadata": {},
   "outputs": [
    {
     "name": "stdout",
     "output_type": "stream",
     "text": [
      "[1, 2, 3, 4, 5, 6]\n"
     ]
    }
   ],
   "source": [
    "a =[1,2,3]\n",
    "b =[4,5,6]\n",
    "c = a + b\n",
    "print(c)"
   ]
  },
  {
   "cell_type": "markdown",
   "id": "4c22d640-2c3a-421d-b407-f4356cf38b8e",
   "metadata": {},
   "source": [
    "**3. 上記のa, bを使って以下のようなnumpy 2次元配列を作成せよ。さらにこの配列の各要素を一斉に二乗せよ**\n",
    "\n",
    "```python\n",
    "[[1 2 3]\n",
    " [4 5 6]]\n",
    "\n",
    "```\n",
    "**4. 上記の２次元配列と、下記のnumpy配列 x どうしの演算結果が以下のような結果になるようにプログラミングせよ**\n",
    "```python\n",
    "x = [1 2]\n",
    "\n",
    "[[2 3 4]\n",
    " [6 7 8]] \n",
    "\n",
    "```\n",
    "\n",
    "**5. 上記の2次元配列の1列目と3列目をそれぞれ、a, b に格納し、a, b の要素同士の足し算を行って以下のような結果が得られるようなプログラムを書け**\n",
    "```python\n",
    "[6 14]\n",
    "```\n",
    "**6. 同様に上記の2次元配列の1行目と2行目をそれぞれ、c, d に格納し、c, d の要素同士の足し算を行って以下のような結果が得あれるプログラムを書け**\n",
    "```pyhton\n",
    "[8 10 12]\n",
    "```"
   ]
  },
  {
   "cell_type": "code",
   "execution_count": null,
   "id": "3fb60fc6-c357-41d0-9cfb-4b7f1b9c35dc",
   "metadata": {},
   "outputs": [],
   "source": []
  }
 ],
 "metadata": {
  "kernelspec": {
   "display_name": "Python 3 (ipykernel)",
   "language": "python",
   "name": "python3"
  },
  "language_info": {
   "codemirror_mode": {
    "name": "ipython",
    "version": 3
   },
   "file_extension": ".py",
   "mimetype": "text/x-python",
   "name": "python",
   "nbconvert_exporter": "python",
   "pygments_lexer": "ipython3",
   "version": "3.11.7"
  }
 },
 "nbformat": 4,
 "nbformat_minor": 5
}
