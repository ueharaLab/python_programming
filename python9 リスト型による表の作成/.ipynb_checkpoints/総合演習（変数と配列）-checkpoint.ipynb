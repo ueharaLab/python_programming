{
 "cells": [
  {
   "cell_type": "markdown",
   "id": "a17f814e-a04e-434c-9ed8-e75b91aff9ab",
   "metadata": {},
   "source": [
    "# 総合演習（変数と配列）\n",
    "### MLBデータの分析に必要なプログラミングを中心とした復習です"
   ]
  },
  {
   "cell_type": "markdown",
   "id": "cd39dfc6-ea85-48a3-8336-1ebaca697a58",
   "metadata": {},
   "source": [
    "# 変数\n",
    "**1. 以下のような３つの変数だけを使い、式中に数値を明示することなく下記の演算をするプログラミングは可能か？ なお変数の再利用は可能とする**\n",
    "\n",
    "**変数の初期値**\n",
    "\n",
    "\n",
    "```python\n",
    "a=0\n",
    "b=1\n",
    "c=2\n",
    "```\n",
    "\n",
    "\n",
    "---\n",
    "\n",
    "**演算**\n",
    "\n",
    "$3=1+2$  \n",
    "$5=3+2$  \n",
    "$6=5+1$  \n",
    "\n",
    "---\n",
    "\n"
   ]
  },
  {
   "cell_type": "code",
   "execution_count": null,
   "id": "12e0af10-6d7b-4d11-90a0-4e4b3832caec",
   "metadata": {},
   "outputs": [],
   "source": []
  },
  {
   "cell_type": "markdown",
   "id": "da6853ad-24bb-4f46-becf-27773bdef453",
   "metadata": {},
   "source": [
    "# 配列の演算\n",
    "**2. 以下は配列要素同士の演算することを意図したプログラムであるが、このままでは意図のとおりにならない。これを正しく動作するように修正せよ**\n",
    "\n",
    "---\n",
    "\n",
    "cには、[5,7,9]が入るようにしたい\n",
    "```python\n",
    "a=[1,2,3]\n",
    "b=[4,5,6]\n",
    "c = a + b\n",
    "```\n",
    "\n",
    "---"
   ]
  },
  {
   "cell_type": "code",
   "execution_count": 4,
   "id": "ac0a71e1-284c-4b17-82be-109df4ec822a",
   "metadata": {},
   "outputs": [
    {
     "name": "stdout",
     "output_type": "stream",
     "text": [
      "[1, 2, 3, 4, 5, 6]\n"
     ]
    }
   ],
   "source": [
    "a =[1,2,3]\n",
    "b =[4,5,6]\n",
    "c = a + b\n",
    "print(c)\n",
    "\n"
   ]
  },
  {
   "cell_type": "code",
   "execution_count": 6,
   "id": "af3eb080-994a-4376-aba7-a1b5fcfdaf9d",
   "metadata": {},
   "outputs": [
    {
     "name": "stdout",
     "output_type": "stream",
     "text": [
      "[5 7 9]\n"
     ]
    }
   ],
   "source": []
  },
  {
   "cell_type": "markdown",
   "id": "3d8f592e-b90f-49f4-bc2c-56af15bcb0aa",
   "metadata": {},
   "source": [
    "**3. 上記のa, bを使って以下のようなnumpy 2次元配列を作成せよ。さらにこの配列の各要素を一斉に二乗せよ**\n",
    "\n",
    "```python\n",
    "[[1 2 3]\n",
    " [4 5 6]]\n",
    "\n",
    "```\n",
    "**4. 上記の２次元配列と、下記のnumpy配列 x どうしの演算結果が以下のような結果になるようにプログラミングせよ**\n",
    "```python\n",
    "x = [1 2]\n",
    "\n",
    "[[2 3 4]\n",
    " [6 7 8]] \n",
    "\n",
    "```\n",
    "\n",
    "**5. 上記4.の2次元配列の1列目と3列目をそれぞれ、a, b に格納し、a, b の要素同士の足し算を行って以下のような結果が得られるようなプログラムを書け**\n",
    "```python\n",
    "[6 14]\n",
    "```\n",
    "**6. 同様に上記4.の2次元配列の1行目と2行目をそれぞれ、c, d に格納し、c, d の要素同士の足し算を行って以下のような結果が得あれるプログラムを書け**\n",
    "```pyhton\n",
    "[8 10 12]\n",
    "```"
   ]
  },
  {
   "cell_type": "code",
   "execution_count": 18,
   "id": "5b62cc7b-9981-4945-a17d-70fcb1e6a084",
   "metadata": {},
   "outputs": [
    {
     "name": "stdout",
     "output_type": "stream",
     "text": [
      "[[1 2 3]\n",
      " [4 5 6]]\n",
      "[[ 1  4  9]\n",
      " [16 25 36]]\n",
      "[[2 3 4]\n",
      " [6 7 8]]\n"
     ]
    }
   ],
   "source": [
    "\n"
   ]
  },
  {
   "cell_type": "code",
   "execution_count": 24,
   "id": "9b667568-aa3a-456a-9b16-bd29f35d52a3",
   "metadata": {},
   "outputs": [
    {
     "name": "stdout",
     "output_type": "stream",
     "text": [
      "[ 6 14]\n"
     ]
    }
   ],
   "source": []
  },
  {
   "cell_type": "code",
   "execution_count": 34,
   "id": "5a33f060-63cd-4555-a3ca-1fc091b12fc4",
   "metadata": {},
   "outputs": [
    {
     "name": "stdout",
     "output_type": "stream",
     "text": [
      "[ 8 10 12]\n"
     ]
    }
   ],
   "source": []
  },
  {
   "attachments": {
    "92693c21-27f3-44db-a2de-1c7528f44dbb.png": {
     "image/png": "[encoded data removed]"
    }
   },
   "cell_type": "markdown",
   "id": "b90ed8a8-4b25-4cfc-9564-3750710c9883",
   "metadata": {},
   "source": [
    "# 配列の連結と分割\n",
    "\n",
    "**7. 下表を作るために以下のようなプログラムを書きたい。しかしこのプログラムを実行すると下表のようにならない。誤りを見つけ出して修正せよ**\n",
    "![image.png](attachment:92693c21-27f3-44db-a2de-1c7528f44dbb.png)]]\n"
   ]
  },
  {
   "cell_type": "code",
   "execution_count": 143,
   "id": "13be847a-58b3-40eb-92cb-36eb7bdbeceb",
   "metadata": {},
   "outputs": [],
   "source": [
    "import numpy as np\n",
    "\n",
    "L = ['Lucy',160,52,'A','USA',20,'student']\n",
    "J =  ['Jordan',210,89,'O','USA',30,'NBA']\n",
    "S = ['Shohei',193,80,'AB','Japan',30,'MLB']\n",
    "M = ['Mami',180,62,'B','Japan',28,'wife']\n",
    "\n",
    "profiles = np.array(L + J + S + M)\n"
   ]
  },
  {
   "cell_type": "markdown",
   "id": "6f05a32b-6fc0-49f9-a586-3418ccbd3938",
   "metadata": {},
   "source": [
    "**8. 以下のプログラムは、上表に行と列を追加するプログラムである。各行は何をやっているのか意味を考えよ。最後にどのような表になるのか想像して確認せよ**\n"
   ]
  },
  {
   "cell_type": "code",
   "execution_count": 5,
   "id": "78b11d21-8e8d-4342-b6dc-335926780366",
   "metadata": {},
   "outputs": [
    {
     "data": {
      "text/plain": [
       "array([['Lucy', 160, 52, 'A', 'USA', '20', 'student'],\n",
       "       ['Jordan', 210, 89, 'O', 'USA', '30', 'NBA'],\n",
       "       ['Shohei', 193, 80, 'AB', 'Japan', '30', 'MLB'],\n",
       "       ['Mami', 180, 62, 'B', 'Japan', '28', 'wife']], dtype=object)"
      ]
     },
     "metadata": {},
     "output_type": "display_data"
    },
    {
     "data": {
      "text/plain": [
       "array([['Lucy', 160, 52, 'A', 'USA', '20', 'student', 'female'],\n",
       "       ['Jordan', 210, 89, 'O', 'USA', '30', 'NBA', 'male'],\n",
       "       ['Shohei', 193, 80, 'AB', 'Japan', '30', 'MLB', 'male'],\n",
       "       ['Mami', 180, 62, 'B', 'Japan', '28', 'wife', 'female']],\n",
       "      dtype=object)"
      ]
     },
     "metadata": {},
     "output_type": "display_data"
    },
    {
     "data": {
      "text/plain": [
       "array([['Lucy', 160, 52, 'A', 'USA', '20', 'student', 'female'],\n",
       "       ['Jordan', 210, 89, 'O', 'USA', '30', 'NBA', 'male'],\n",
       "       ['Shohei', 193, 80, 'AB', 'Japan', '30', 'MLB', 'male'],\n",
       "       ['Mami', 180, 62, 'B', 'Japan', '28', 'wife', 'female'],\n",
       "       ['Rui', '210', '100', 'O', 'Japan', '15', 'NBA', 'male']],\n",
       "      dtype=object)"
      ]
     },
     "metadata": {},
     "output_type": "display_data"
    }
   ],
   "source": [
    "import numpy as np\n",
    "profiles =np.array([['Lucy',160,52,'A','USA','20','student'],\n",
    " ['Jordan',210,89,'O','USA','30','NBA'],\n",
    " ['Shohei',193,80,'AB','Japan','30','MLB'],\n",
    " ['Mami',180,62,'B','Japan','28','wife']],dtype='object')\n",
    "display(profiles)\n",
    "mf = np.array(['female', 'male', 'male', 'female'])\n",
    "mf = mf.reshape(4,1) # 特に重要\n",
    "\n",
    "profiles = np.concatenate([profiles,mf], axis =1)\n",
    "display(profiles)\n",
    "rui = [['Rui',210,100,'O','Japan','15','NBA','male']]\n",
    "\n",
    "profiles = np.concatenate([profiles,rui], axis =0)\n",
    "display(profiles)"
   ]
  },
  {
   "cell_type": "markdown",
   "id": "b2d71a11-dd9c-424b-b8d1-4c31b75eade4",
   "metadata": {},
   "source": [
    "**9. 上記のプログラムで作成した2次元配列から、名前、身長、体重の列だけを抽出して、変数 hw に格納せよ**  \n",
    "**10. 同様に、職業の列を抽出して変数 o に格納せよ**  \n",
    "**11. hw と oを連結して、名前、身長、体重、職業の4列からなる配列を作成せよ(oを1列に並べなおす必要がある）**  "
   ]
  },
  {
   "cell_type": "code",
   "execution_count": null,
   "id": "4ff552ac-ea7a-4409-b3db-0625ab55a9b1",
   "metadata": {},
   "outputs": [],
   "source": []
  },
  {
   "cell_type": "markdown",
   "id": "b8a606d1-5a90-44f1-980e-0647c39475e7",
   "metadata": {},
   "source": [
    "**予備演習**\n",
    ".reshape関数を使うと、以下のように配列を表に変形できる。この規則性をよく観察すること"
   ]
  },
  {
   "cell_type": "code",
   "execution_count": 1,
   "id": "ad418360-1a33-4de8-8419-44a8166d5bab",
   "metadata": {},
   "outputs": [
    {
     "name": "stdout",
     "output_type": "stream",
     "text": [
      "[[ 1  3  5  7]\n",
      " [ 9 11 13 15]\n",
      " [17 19 21 23]]\n",
      "[[ 1  3  5]\n",
      " [ 7  9 11]\n",
      " [13 15 17]\n",
      " [19 21 23]]\n"
     ]
    }
   ],
   "source": [
    "import numpy as np\n",
    "a = np.array([1,3,5,7,9,11,13,15,17,19,21,23])\n",
    "b = a.reshape(3,4)\n",
    "print(b)\n",
    "c = a.reshape(4,3)\n",
    "print(c)\n"
   ]
  },
  {
   "cell_type": "markdown",
   "id": "b8ff6714-a35a-42a0-9552-6f0175ab329b",
   "metadata": {},
   "source": [
    "**以下のaをreshapeして、上記の変数 b に2列追加して変数 dに保管せよ**  \n",
    "**同様にaをreshapeして d に1行追加して変数 eに保管せよ(aは1行の2次元配列である必要がある）**  \n",
    "**変数dに1行追加したい。変数cを追加することはできるだろうか**\n"
   ]
  },
  {
   "cell_type": "code",
   "execution_count": 17,
   "id": "8e80d09b-2107-4d36-9eb2-4adeba73f079",
   "metadata": {},
   "outputs": [
    {
     "name": "stdout",
     "output_type": "stream",
     "text": [
      "[0 1 2 3 4 5]\n"
     ]
    }
   ],
   "source": [
    "a = np.arange(6)\n",
    "print(a)\n",
    "c = a.reshape(3,2)\n",
    "\n",
    "d = np.concatenate([b,c],axis=1)\n",
    "\n",
    "e= np.concatenate([d,a.reshape(1,6)],axis=0)\n",
    "\n",
    "\n"
   ]
  },
  {
   "cell_type": "code",
   "execution_count": null,
   "id": "1743cd1d-a889-4376-a514-7326e5182060",
   "metadata": {},
   "outputs": [],
   "source": []
  },
  {
   "attachments": {
    "834b40ba-efed-4322-af70-04b013dcfc80.png": {
     "image/png": "[encoded data removed]"
    }
   },
   "cell_type": "markdown",
   "id": "49b2ac04-fc17-4f26-a2fe-99e5d09e9144",
   "metadata": {},
   "source": [
    "**12. 以下は上記3.と類似した処理だが、エラーになる。誤りを見つけ出して訂正せよ。（修正できれば以下の表になる）**\n",
    "<img src=\"attachment:834b40ba-efed-4322-af70-04b013dcfc80.png\" width=\"50%\">"
   ]
  },
  {
   "cell_type": "code",
   "execution_count": 145,
   "id": "9cdc97a9-c098-4a29-9e03-74da2e466db9",
   "metadata": {},
   "outputs": [
    {
     "ename": "AxisError",
     "evalue": "axis 1 is out of bounds for array of dimension 1",
     "output_type": "error",
     "traceback": [
      "\u001b[1;31m---------------------------------------------------------------------------\u001b[0m",
      "\u001b[1;31mAxisError\u001b[0m                                 Traceback (most recent call last)",
      "Cell \u001b[1;32mIn[145], line 8\u001b[0m\n\u001b[0;32m      2\u001b[0m marry \u001b[38;5;241m=\u001b[39m marry\u001b[38;5;241m.\u001b[39mreshape(\u001b[38;5;241m5\u001b[39m,\u001b[38;5;241m1\u001b[39m)\n\u001b[0;32m      4\u001b[0m profiles3 \u001b[38;5;241m=\u001b[39m np\u001b[38;5;241m.\u001b[39marray([[\u001b[38;5;124m'\u001b[39m\u001b[38;5;124mNaomi\u001b[39m\u001b[38;5;124m'\u001b[39m,\u001b[38;5;241m185\u001b[39m,\u001b[38;5;241m70\u001b[39m,\u001b[38;5;124m'\u001b[39m\u001b[38;5;124mA\u001b[39m\u001b[38;5;124m'\u001b[39m,\u001b[38;5;124m'\u001b[39m\u001b[38;5;124mJapan\u001b[39m\u001b[38;5;124m'\u001b[39m,\u001b[38;5;124m'\u001b[39m\u001b[38;5;124m30\u001b[39m\u001b[38;5;124m'\u001b[39m,\u001b[38;5;124m'\u001b[39m\u001b[38;5;124mtennis\u001b[39m\u001b[38;5;124m'\u001b[39m,\u001b[38;5;124m'\u001b[39m\u001b[38;5;124mfimale\u001b[39m\u001b[38;5;124m'\u001b[39m,\u001b[38;5;124m'\u001b[39m\u001b[38;5;124mmarried\u001b[39m\u001b[38;5;124m'\u001b[39m],\n\u001b[0;32m      5\u001b[0m             [\u001b[38;5;124m'\u001b[39m\u001b[38;5;124mBetts\u001b[39m\u001b[38;5;124m'\u001b[39m,\u001b[38;5;241m177\u001b[39m,\u001b[38;5;241m70\u001b[39m,\u001b[38;5;124m'\u001b[39m\u001b[38;5;124mO\u001b[39m\u001b[38;5;124m'\u001b[39m,\u001b[38;5;124m'\u001b[39m\u001b[38;5;124mUSA\u001b[39m\u001b[38;5;124m'\u001b[39m,\u001b[38;5;124m'\u001b[39m\u001b[38;5;124m33\u001b[39m\u001b[38;5;124m'\u001b[39m,\u001b[38;5;124m'\u001b[39m\u001b[38;5;124mMLB\u001b[39m\u001b[38;5;124m'\u001b[39m,\u001b[38;5;124m'\u001b[39m\u001b[38;5;124mmale\u001b[39m\u001b[38;5;124m'\u001b[39m,\u001b[38;5;124m'\u001b[39m\u001b[38;5;124mmarried\u001b[39m\u001b[38;5;124m'\u001b[39m]])\n\u001b[1;32m----> 8\u001b[0m profiles \u001b[38;5;241m=\u001b[39m np\u001b[38;5;241m.\u001b[39mconcatenate([profiles,marry], axis \u001b[38;5;241m=\u001b[39m\u001b[38;5;241m1\u001b[39m)\n\u001b[0;32m      9\u001b[0m profiles \u001b[38;5;241m=\u001b[39m np\u001b[38;5;241m.\u001b[39mconcatenate([profiles,profiles3], axis \u001b[38;5;241m=\u001b[39m\u001b[38;5;241m0\u001b[39m)\n\u001b[0;32m     11\u001b[0m \u001b[38;5;28mprint\u001b[39m(profiles)\n",
      "File \u001b[1;32m<__array_function__ internals>:200\u001b[0m, in \u001b[0;36mconcatenate\u001b[1;34m(*args, **kwargs)\u001b[0m\n",
      "\u001b[1;31mAxisError\u001b[0m: axis 1 is out of bounds for array of dimension 1"
     ]
    }
   ],
   "source": [
    "marry = np.array(['single','married','married','married','single'])\n",
    "marry = marry.reshape(5,1)\n",
    "\n",
    "profiles3 = np.array([['Naomi',185,70,'A','Japan','30','tennis','fimale','married'],\n",
    "            ['Betts',177,70,'O','USA','33','MLB','male','married']],dtype='object')\n",
    "\n",
    "profiles = np.concatenate([profiles,profiles3], axis =0)\n",
    "profiles = np.concatenate([profiles,marry], axis =1)\n",
    "\n",
    "print(profiles)"
   ]
  },
  {
   "cell_type": "markdown",
   "id": "8fd6c02d-c78f-417e-972d-a03409bd177d",
   "metadata": {},
   "source": [
    "# 配列からの条件抽出と計算\n",
    "**13 以下のプログラム例を参考にして、職業が MLB のデータを抽出せよ**\n"
   ]
  },
  {
   "cell_type": "code",
   "execution_count": 25,
   "id": "5c8ad86f-c6c6-42ea-bead-395dde458a41",
   "metadata": {},
   "outputs": [
    {
     "name": "stdout",
     "output_type": "stream",
     "text": [
      "[['Jordan' 210 89 'O' 'USA' '30' 'NBA' 'male' 'married']\n",
      " ['Shohei' 193 80 'AB' 'Japan' '30' 'MLB' 'male' 'married']\n",
      " ['Mami' 180 62 'B' 'Japan' '28' 'wife' 'female' 'married']\n",
      " ['Rui' 210 100 'O' 'Japan' '15' 'NBA' 'male' 'single']\n",
      " ['Naomi' 185 70 'A' 'Japan' '30' 'tennis' 'fimale' 'married']]\n"
     ]
    }
   ],
   "source": [
    "import numpy as np\n",
    "profiles = np.array([['Lucy', 160, 52, 'A', 'USA', '20', 'student', 'female' ,'single'],\n",
    " ['Jordan' ,210, 89, 'O', 'USA', '30', 'NBA', 'male', 'married'],\n",
    " ['Shohei', 193 ,80 ,'AB', 'Japan', '30' ,'MLB', 'male' ,'married'],\n",
    " ['Mami', 180 ,62 ,'B' ,'Japan', '28' ,'wife', 'female', 'married'],\n",
    " ['Rui' ,210 ,100, 'O' ,'Japan' ,'15' ,'NBA', 'male' ,'single'],\n",
    " ['Naomi', 185, 70, 'A' ,'Japan', '30' ,'tennis', 'fimale', 'married'],\n",
    " ['Betts' ,177 ,70 ,'O' ,'USA', '33' ,'MLB' ,'male', 'married']],dtype='object')\n",
    "\n",
    "# 身長が180以上のデータを抽出\n",
    "over180 = profiles[profiles[:,1]>=180]\n",
    "print(over180)"
   ]
  },
  {
   "cell_type": "markdown",
   "id": "78bf47b6-34e4-4b9e-b66e-c43257083aa9",
   "metadata": {},
   "source": [
    "**14. 2次元配列 profiles から下の計算を行うプログラムの構文を理解すること。これらを参考に、国籍がJapanのデータを取り出し、体重の平均を計算せよ**\n",
    "-  身長　体重の平均を計算する    \n",
    "-  身長が最大の人を見つける\n",
    "-  MLBの選手の平均身長を求める\n",
    "-  MJBの選手の数を求める\n",
    "-  NBAの選手の平均身長を求める\n"
   ]
  },
  {
   "cell_type": "code",
   "execution_count": 85,
   "id": "29e0ba27-17bf-4b10-9380-a4334ac00b7e",
   "metadata": {},
   "outputs": [
    {
     "name": "stdout",
     "output_type": "stream",
     "text": [
      "[['Lucy' 160 52 'A' 'USA' '20' 'student' 'female' 'single']\n",
      " ['Jordan' 210 89 'O' 'USA' '30' 'NBA' 'male' 'married']\n",
      " ['Shohei' 193 80 'AB' 'Japan' '30' 'MLB' 'male' 'married']\n",
      " ['Mami' 180 62 'B' 'Japan' '28' 'wife' 'female' 'married']\n",
      " ['Rui' 210 100 'O' 'Japan' '15' 'NBA' 'male' 'single']\n",
      " ['Naomi' 185 70 'A' 'Japan' '30' 'tennis' 'fimale' 'married']\n",
      " ['Betts' 177 70 'O' 'USA' '33' 'MLB' 'male' 'married']]\n",
      "平均 [187.85714285714286 74.71428571428571]\n",
      "210\n",
      "最高身長 [['Jordan' 210 89 'O' 'USA' '30' 'NBA' 'male' 'married']\n",
      " ['Rui' 210 100 'O' 'Japan' '15' 'NBA' 'male' 'single']]\n",
      "MLB選手 [['Shohei' 193 80 'AB' 'Japan' '30' 'MLB' 'male' 'married']\n",
      " ['Betts' 177 70 'O' 'USA' '33' 'MLB' 'male' 'married']]\n",
      "MLB平均身長 185.0\n",
      "2\n",
      "NBA選手 [['Jordan' 210 89 'O' 'USA' '30' 'NBA' 'male' 'married']\n",
      " ['Rui' 210 100 'O' 'Japan' '15' 'NBA' 'male' 'single']]\n",
      "NBA平均身長 210.0\n"
     ]
    }
   ],
   "source": [
    "import pandas as pd\n",
    "profiles = np.array([['Lucy', 160, 52, 'A', 'USA', '20', 'student', 'female' ,'single'],\n",
    " ['Jordan' ,210, 89, 'O', 'USA', '30', 'NBA', 'male', 'married'],\n",
    " ['Shohei', 193 ,80 ,'AB', 'Japan', '30' ,'MLB', 'male' ,'married'],\n",
    " ['Mami', 180 ,62 ,'B' ,'Japan', '28' ,'wife', 'female', 'married'],\n",
    " ['Rui' ,210 ,100, 'O' ,'Japan' ,'15' ,'NBA', 'male' ,'single'],\n",
    " ['Naomi', 185, 70, 'A' ,'Japan', '30' ,'tennis', 'fimale', 'married'],\n",
    " ['Betts' ,177 ,70 ,'O' ,'USA', '33' ,'MLB' ,'male', 'married']],dtype='object')\n",
    "\n",
    "print(profiles)\n",
    "\n",
    "means = np.mean(profiles[:,1:3], axis = 0)\n",
    "print('平均',means)\n",
    "\n",
    "h_max = np.max(profiles[:,1])\n",
    "print(h_max)\n",
    "who_h_max = profiles[profiles[:,1]==210]\n",
    "print('最高身長',who_h_max)\n",
    "\n",
    "mlb = profiles[profiles[:,6]=='MLB']\n",
    "print('MLB選手',mlb)\n",
    "h_mean = np.mean(mlb[:,1],axis=0)\n",
    "print('MLB平均身長',h_mean)\n",
    "print(len(mlb))\n",
    "\n",
    "mlb = profiles[profiles[:,6]=='NBA']\n",
    "print('NBA選手',mlb)\n",
    "h_mean = np.mean(mlb[:,1],axis=0)\n",
    "print('NBA平均身長',h_mean)\n",
    "\n"
   ]
  },
  {
   "cell_type": "code",
   "execution_count": null,
   "id": "67986470-3b39-4f99-aeb0-2daf830d8baf",
   "metadata": {},
   "outputs": [],
   "source": []
  },
  {
   "cell_type": "markdown",
   "id": "1ae331d1-27e2-4ddd-b32a-23671fea576e",
   "metadata": {},
   "source": [
    "**15. 以下のプログラムは、上表から名前、身長、体重を取り出して、名前をkey [身長、体重] をvalueとするような辞書型を作るプログラムである。##の箇所に適切なプログラムを埋めて完成させよ。出来上がったらShoheiの身長、体重を表示せよ**  \n",
    "   辞書型の例：{Lucy:[160,52], Jordan:[210,89],...}"
   ]
  },
  {
   "cell_type": "code",
   "execution_count": null,
   "id": "3e5ee6cf-d509-40ee-8f6a-4486143e6534",
   "metadata": {},
   "outputs": [],
   "source": [
    "\n",
    "profiles =np.array([['Lucy',160,52,'A','USA',20,'student'],\n",
    " ['Jordan',210,89,'O','USA',30,'NBA'],\n",
    " ['Shohei',193,80,'AB','Japan',30,'MLB'],\n",
    " ['Mami',180,62,'B','Japan',28,'wife']],dtype='object')\n",
    "\n",
    "print(profiles)\n",
    "\n",
    "names = profiles[:,0]\n",
    "height_weight = profiles[:,##]\n",
    "name_dict = {names[0]:height_weight[0],##         ##}# 辞書の要素を書き込む\n",
    "print(name_dict)"
   ]
  },
  {
   "cell_type": "code",
   "execution_count": null,
   "id": "66fa4be0-59bf-4367-94de-166613b09243",
   "metadata": {},
   "outputs": [],
   "source": []
  },
  {
   "cell_type": "code",
   "execution_count": null,
   "id": "d2b04904-b248-436b-9d38-0acd631f2b30",
   "metadata": {},
   "outputs": [],
   "source": []
  }
 ],
 "metadata": {
  "kernelspec": {
   "display_name": "Python 3 (ipykernel)",
   "language": "python",
   "name": "python3"
  },
  "language_info": {
   "codemirror_mode": {
    "name": "ipython",
    "version": 3
   },
   "file_extension": ".py",
   "mimetype": "text/x-python",
   "name": "python",
   "nbconvert_exporter": "python",
   "pygments_lexer": "ipython3",
   "version": "3.11.7"
  }
 },
 "nbformat": 4,
 "nbformat_minor": 5
}
